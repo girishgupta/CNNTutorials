{
 "cells": [
  {
   "cell_type": "code",
   "execution_count": 1,
   "metadata": {
    "collapsed": true
   },
   "outputs": [],
   "source": [
    "import tensorflow as tf\n",
    "from tensorflow.examples.tutorials.mnist import input_data\n",
    "import matplotlib.pyplot as plt\n",
    "import numpy as np\n",
    "import os\n",
    "import pandas as pd\n",
    "import time"
   ]
  },
  {
   "cell_type": "markdown",
   "metadata": {},
   "source": [
    "# Get Data"
   ]
  },
  {
   "cell_type": "code",
   "execution_count": 2,
   "metadata": {
    "collapsed": false
   },
   "outputs": [
    {
     "name": "stdout",
     "output_type": "stream",
     "text": [
      "Extracting MNIST_data\\train-images-idx3-ubyte.gz\n",
      "Extracting MNIST_data\\train-labels-idx1-ubyte.gz\n",
      "Extracting MNIST_data\\t10k-images-idx3-ubyte.gz\n",
      "Extracting MNIST_data\\t10k-labels-idx1-ubyte.gz\n"
     ]
    }
   ],
   "source": [
    "mnist = input_data.read_data_sets('MNIST_data', one_hot=True)\n",
    "image_size = 28\n",
    "num_classes = 10"
   ]
  },
  {
   "cell_type": "code",
   "execution_count": 3,
   "metadata": {
    "collapsed": false
   },
   "outputs": [],
   "source": [
    "def display(val):\n",
    "    image = mnist.train.images[val].reshape([image_size, image_size])\n",
    "    label = mnist.train.labels[val].argmax()\n",
    "    plt.title('Training: %d  Label: %d' % (val, label))\n",
    "    plt.imshow(image, cmap=plt.get_cmap('gray_r'))\n",
    "    plt.show()"
   ]
  },
  {
   "cell_type": "code",
   "execution_count": 4,
   "metadata": {
    "collapsed": false
   },
   "outputs": [
    {
     "data": {
      "image/png": "[encoded data removed]",
      "text/plain": [
       "<matplotlib.figure.Figure at 0x29b1aba4278>"
      ]
     },
     "metadata": {},
     "output_type": "display_data"
    }
   ],
   "source": [
    "display(29)"
   ]
  },
  {
   "cell_type": "markdown",
   "metadata": {},
   "source": [
    "# CNN Building Blocks"
   ]
  },
  {
   "cell_type": "code",
   "execution_count": 5,
   "metadata": {
    "collapsed": true
   },
   "outputs": [],
   "source": [
    "def createConvolutionLayer(x_input, kernel_size, features, depth):\n",
    "    # createConvolutionLayer generates a convolution layer in the session graph\n",
    "    # by assigning weights, biases, convolution and relu function\n",
    "    #\n",
    "    # x_input - output from the previous layer\n",
    "    # kernel_size - size of the feature kernels\n",
    "    # depth - number of feature kernels\n",
    "    #\n",
    "    # returns convolution layer in graph\n",
    "    #\n",
    "    print(\"conv: input size: \" + str(x_input.get_shape()))\n",
    "    weights = tf.get_variable('weights', shape=[kernel_size, kernel_size, features, depth],\n",
    "                             initializer = tf.contrib.layers.xavier_initializer())\n",
    "    \n",
    "    biases = tf.get_variable('biases', shape=[depth], initializer=tf.constant_initializer(0))\n",
    "    print(\"shape:\" + str(x_input.get_shape()))\n",
    "    print(\"shape:\" + str(weights.get_shape()))\n",
    "    convolution = tf.nn.conv2d(x_input, weights, strides=[1,1,1,1], padding='SAME')\n",
    "    print(\"shape:\" + str(convolution.get_shape()))\n",
    "    added = tf.nn.bias_add(convolution, biases)\n",
    "    \n",
    "    return tf.nn.relu(added), weights"
   ]
  },
  {
   "cell_type": "code",
   "execution_count": 6,
   "metadata": {
    "collapsed": true
   },
   "outputs": [],
   "source": [
    "def createFullyConnectedLayer(x_input, width):\n",
    "    # createFullyConnectedLayer generates a fully connected layer in the session graph\n",
    "    # \n",
    "    # x_input - output from previous layer\n",
    "    # width - width of the layer (eg for a 10 class output you need to end with a 10 width layer\n",
    "    #\n",
    "    # returns fully connected layer in graph\n",
    "    #\n",
    "    print(\"fc: input size: \" + str(x_input.get_shape()))\n",
    "    weights = tf.get_variable('weights', shape=[x_input.get_shape()[1], width],\n",
    "                             initializer = tf.contrib.layers.xavier_initializer())\n",
    "    biases = tf.get_variable('biases', shape=[width], initializer=tf.constant_initializer(0))\n",
    "     \n",
    "    matrix_multiply = tf.matmul(x_input, weights)\n",
    "    \n",
    "    return tf.nn.bias_add(matrix_multiply, biases)"
   ]
  },
  {
   "cell_type": "code",
   "execution_count": 7,
   "metadata": {
    "collapsed": true
   },
   "outputs": [],
   "source": [
    "def createSoftmaxLayer(x_input, width):\n",
    "    # createSoftmaxLayer generates a softmax layer in the session graph\n",
    "    # \n",
    "    # x_input - output from previous layer\n",
    "    # width - width of the layer (eg for a 10 class output you need to end with a 10 width layer\n",
    "    #\n",
    "    # returns softmax layer in graph\n",
    "    #\n",
    "    print(\"softmax: input size: \" + str(x_input.get_shape()))\n",
    "    weights = tf.get_variable('weights', shape=[x_input.get_shape()[1], width],\n",
    "                             initializer = tf.contrib.layers.xavier_initializer())\n",
    "    biases = tf.get_variable('biases', shape=[width], initializer=tf.constant_initializer(0))\n",
    "    \n",
    "    matrix_multiply = tf.matmul(x_input, weights)\n",
    "    \n",
    "    return tf.nn.softmax(tf.nn.bias_add(matrix_multiply, biases))"
   ]
  },
  {
   "cell_type": "code",
   "execution_count": 8,
   "metadata": {
    "collapsed": true
   },
   "outputs": [],
   "source": [
    "def createLinearRectifier(x_input):\n",
    "    # createLinearRectifier generates a ReLu in the session graph\n",
    "    # \n",
    "    # The reason this exists is due to the last fully connected layer not needing a relu while others do\n",
    "    # x_input - output from previous layer\n",
    "    # width - width of the layer\n",
    "    #\n",
    "    # returns ReLu in graph\n",
    "    # \n",
    "    \n",
    "    return tf.nn.relu(x_input)"
   ]
  },
  {
   "cell_type": "code",
   "execution_count": 9,
   "metadata": {
    "collapsed": true
   },
   "outputs": [],
   "source": [
    "def createPoolingLayer(x_input, kernel_size):\n",
    "    # createPoolingLayer generates a pooling layer in the session graph\n",
    "    # \n",
    "    # The reason this exists is due to the last fully connected layer not needing a relu while others do\n",
    "    # x_input - output from previous layer\n",
    "    # kernel_size - size of the kernel\n",
    "    #\n",
    "    # returns pooling layer in graph\n",
    "    # \n",
    "    print(\"pool: input size: \" + str(x_input.get_shape()))\n",
    "    return tf.nn.max_pool(x_input, ksize=[1, kernel_size, kernel_size, 1], strides=[1,kernel_size,kernel_size, 1], padding='SAME')"
   ]
  },
  {
   "cell_type": "code",
   "execution_count": 10,
   "metadata": {
    "collapsed": true
   },
   "outputs": [],
   "source": [
    "def createNetwork(x_input, is_training):\n",
    "    with tf.variable_scope('conv1'):\n",
    "        print(\"shape:\" + str(x_input.get_shape()))\n",
    "        convolution_layer1, weights1 = createConvolutionLayer(x_input, 5, 1, 32)\n",
    "        print(\"shape:\" + str(convolution_layer1.get_shape()))\n",
    "        pooling_layer1 = createPoolingLayer(convolution_layer1, 2)\n",
    "    with tf.variable_scope('conv2'):\n",
    "        convolution_layer2, weights2 = createConvolutionLayer(pooling_layer1, 5, 32, 64)\n",
    "        pooling_layer1 = createPoolingLayer(convolution_layer2, 2)\n",
    "        pooling_layer1_shape = pooling_layer1.get_shape().as_list()\n",
    "        pooling_layer1_flattened = tf.reshape(pooling_layer1, [-1, pooling_layer1_shape[1] * pooling_layer1_shape[2] * pooling_layer1_shape[3]])\n",
    "    with tf.variable_scope('fc1'):\n",
    "        fully_connected_layer1 = createFullyConnectedLayer(pooling_layer1_flattened, 1024)\n",
    "        fully_connected_relu1 = createLinearRectifier(fully_connected_layer1)\n",
    "        #fully_connected_relu1 = tf.cond(is_training, lambda: tf.nn.dropout(fully_connected_relu1, keep_prob=0.5), lambda: fully_connected_relu1)\n",
    "    with tf.variable_scope('softmax'):\n",
    "        output = createSoftmaxLayer(fully_connected_relu1, 10)\n",
    "        \n",
    "    return output"
   ]
  },
  {
   "cell_type": "code",
   "execution_count": 11,
   "metadata": {
    "collapsed": false
   },
   "outputs": [
    {
     "name": "stdout",
     "output_type": "stream",
     "text": [
      "shape:(?, 28, 28, 1)\n",
      "conv: input size: (?, 28, 28, 1)\n",
      "shape:(?, 28, 28, 1)\n",
      "shape:(5, 5, 1, 32)\n",
      "shape:(?, 28, 28, 32)\n",
      "shape:(?, 28, 28, 32)\n",
      "pool: input size: (?, 28, 28, 32)\n",
      "conv: input size: (?, 14, 14, 32)\n",
      "shape:(?, 14, 14, 32)\n",
      "shape:(5, 5, 32, 64)\n",
      "shape:(?, 14, 14, 64)\n",
      "pool: input size: (?, 14, 14, 64)\n",
      "fc: input size: (?, 3136)\n",
      "softmax: input size: (?, 1024)\n"
     ]
    }
   ],
   "source": [
    "graph = tf.Graph()\n",
    "\n",
    "with graph.as_default():\n",
    "    \n",
    "    x_input = tf.placeholder(tf.float32, shape=[None, image_size * image_size])\n",
    "    y_output = tf.placeholder(tf.float32, shape=[None, num_classes])\n",
    "    is_training = tf.placeholder(tf.bool)\n",
    "\n",
    "    #learning rate\n",
    "    learning_rate = 0.0001\n",
    "    \n",
    "    # get model\n",
    "    x_image = tf.reshape(x_input, [-1, 28, 28, 1])\n",
    "    prediction_output = createNetwork(x_image, is_training)\n",
    "    \n",
    "    correct_prediction = tf.equal(tf.argmax(y_output,1), tf.argmax(prediction_output,1))\n",
    "    accuracy = tf.reduce_mean(tf.cast(correct_prediction, tf.float32))\n",
    "    loss_function = tf.reduce_mean(-tf.reduce_sum(y_output * tf.log(prediction_output), reduction_indices=[1]))\n",
    "\n",
    "    #optimization method\n",
    "    optimizer = tf.train.AdamOptimizer(learning_rate).minimize(loss_function)"
   ]
  },
  {
   "cell_type": "code",
   "execution_count": 13,
   "metadata": {
    "collapsed": false
   },
   "outputs": [],
   "source": [
    "model_name = \"CNN\" + \"LRN\" + str(learning_rate) + \"EP\" + str(iterations) + \"DRP\" \n",
    "model_filename = model_name + \"Model.ckpt\"\n",
    "model_directory = os.getcwd() + \"/Models/\" + model_name\n",
    "model_path = model_directory + \"/\" + model_filename"
   ]
  },
  {
   "cell_type": "code",
   "execution_count": 33,
   "metadata": {
    "collapsed": false
   },
   "outputs": [
    {
     "name": "stdout",
     "output_type": "stream",
     "text": [
      "TRAINING: CNNLRN0.0001EP10DRP\n",
      "step 0 Train Acc: 0.09375 Train Loss: 2.30706\n",
      "step 100 Train Acc: 0.9375 Train Loss: 0.243375\n",
      "step 200 Train Acc: 0.890625 Train Loss: 0.418127\n",
      "step 300 Train Acc: 0.9375 Train Loss: 0.153159\n",
      "step 400 Train Acc: 0.984375 Train Loss: 0.0993362\n",
      "step 500 Train Acc: 0.90625 Train Loss: 0.208997\n",
      "step 600 Train Acc: 0.953125 Train Loss: 0.221878\n",
      "step 700 Train Acc: 0.9375 Train Loss: 0.184365\n",
      "step 800 Train Acc: 0.953125 Train Loss: 0.139517\n",
      "step 900 Train Acc: 0.953125 Train Loss: 0.103535\n",
      "step 1000 Train Acc: 1.0 Train Loss: 0.0415429\n",
      "step 1100 Train Acc: 0.96875 Train Loss: 0.0545608\n",
      "step 1200 Train Acc: 1.0 Train Loss: 0.0335335\n",
      "step 1300 Train Acc: 0.96875 Train Loss: 0.106182\n",
      "step 1400 Train Acc: 0.953125 Train Loss: 0.158425\n",
      "step 1500 Train Acc: 0.984375 Train Loss: 0.0692326\n",
      "step 1600 Train Acc: 0.96875 Train Loss: 0.184793\n",
      "step 1700 Train Acc: 0.984375 Train Loss: 0.0409942\n",
      "step 1800 Train Acc: 0.984375 Train Loss: 0.0684483\n",
      "step 1900 Train Acc: 0.984375 Train Loss: 0.145716\n",
      "step 2000 Train Acc: 1.0 Train Loss: 0.00868765\n",
      "step 2100 Train Acc: 0.984375 Train Loss: 0.0478009\n",
      "step 2200 Train Acc: 0.984375 Train Loss: 0.0496077\n",
      "step 2300 Train Acc: 0.953125 Train Loss: 0.150093\n",
      "step 2400 Train Acc: 1.0 Train Loss: 0.0158729\n",
      "step 2500 Train Acc: 1.0 Train Loss: 0.0164558\n",
      "step 2600 Train Acc: 0.984375 Train Loss: 0.020268\n",
      "step 2700 Train Acc: 0.984375 Train Loss: 0.0561414\n",
      "step 2800 Train Acc: 1.0 Train Loss: 0.0131549\n",
      "step 2900 Train Acc: 0.984375 Train Loss: 0.0408478\n",
      "step 3000 Train Acc: 0.984375 Train Loss: 0.0551625\n",
      "step 3100 Train Acc: 0.96875 Train Loss: 0.0397075\n",
      "step 3200 Train Acc: 0.984375 Train Loss: 0.0532815\n",
      "step 3300 Train Acc: 1.0 Train Loss: 0.0250584\n",
      "step 3400 Train Acc: 0.984375 Train Loss: 0.044814\n",
      "step 3500 Train Acc: 0.984375 Train Loss: 0.0543625\n",
      "step 3600 Train Acc: 1.0 Train Loss: 0.00761337\n",
      "step 3700 Train Acc: 0.984375 Train Loss: 0.0252476\n",
      "step 3800 Train Acc: 1.0 Train Loss: 0.00892074\n",
      "step 3900 Train Acc: 0.96875 Train Loss: 0.0770703\n",
      "step 4000 Train Acc: 0.984375 Train Loss: 0.0228147\n",
      "step 4100 Train Acc: 1.0 Train Loss: 0.0108861\n",
      "step 4200 Train Acc: 1.0 Train Loss: 0.0022996\n",
      "step 4300 Train Acc: 1.0 Train Loss: 0.0166701\n",
      "step 4400 Train Acc: 0.984375 Train Loss: 0.0216128\n",
      "step 4500 Train Acc: 0.984375 Train Loss: 0.0566097\n",
      "step 4600 Train Acc: 0.96875 Train Loss: 0.0918818\n",
      "step 4700 Train Acc: 0.984375 Train Loss: 0.0296459\n",
      "step 4800 Train Acc: 0.984375 Train Loss: 0.0491513\n",
      "step 4900 Train Acc: 1.0 Train Loss: 0.00857675\n",
      "step 5000 Train Acc: 1.0 Train Loss: 0.00908164\n",
      "step 5100 Train Acc: 1.0 Train Loss: 0.0106937\n",
      "step 5200 Train Acc: 1.0 Train Loss: 0.00197084\n",
      "step 5300 Train Acc: 1.0 Train Loss: 0.0105322\n",
      "step 5400 Train Acc: 0.984375 Train Loss: 0.0146477\n",
      "step 5500 Train Acc: 1.0 Train Loss: 0.0162458\n",
      "step 5600 Train Acc: 0.984375 Train Loss: 0.0871873\n",
      "step 5700 Train Acc: 1.0 Train Loss: 0.0218819\n",
      "step 5800 Train Acc: 1.0 Train Loss: 0.00256237\n",
      "step 5900 Train Acc: 1.0 Train Loss: 0.006669\n",
      "step 6000 Train Acc: 1.0 Train Loss: 0.0187096\n",
      "step 6100 Train Acc: 1.0 Train Loss: 0.0109166\n",
      "step 6200 Train Acc: 0.984375 Train Loss: 0.0291659\n",
      "step 6300 Train Acc: 0.984375 Train Loss: 0.0182587\n",
      "step 6400 Train Acc: 0.984375 Train Loss: 0.104243\n",
      "step 6500 Train Acc: 1.0 Train Loss: 0.0118579\n",
      "step 6600 Train Acc: 0.984375 Train Loss: 0.0414673\n",
      "step 6700 Train Acc: 1.0 Train Loss: 0.00793854\n",
      "step 6800 Train Acc: 0.984375 Train Loss: 0.0275126\n",
      "step 6900 Train Acc: 1.0 Train Loss: 0.00179845\n",
      "step 7000 Train Acc: 1.0 Train Loss: 0.00907648\n",
      "step 7100 Train Acc: 1.0 Train Loss: 0.0153778\n",
      "step 7200 Train Acc: 1.0 Train Loss: 0.00899721\n",
      "step 7300 Train Acc: 0.984375 Train Loss: 0.0451482\n",
      "step 7400 Train Acc: 1.0 Train Loss: 0.00128092\n",
      "step 7500 Train Acc: 1.0 Train Loss: 0.00439436\n",
      "step 7600 Train Acc: 0.984375 Train Loss: 0.0389464\n",
      "step 7700 Train Acc: 1.0 Train Loss: 0.00641363\n",
      "step 7800 Train Acc: 1.0 Train Loss: 0.00403987\n",
      "step 7900 Train Acc: 1.0 Train Loss: 0.000749833\n",
      "step 8000 Train Acc: 0.984375 Train Loss: 0.0421943\n",
      "step 8100 Train Acc: 0.984375 Train Loss: 0.0525762\n",
      "step 8200 Train Acc: 1.0 Train Loss: 0.00184914\n",
      "step 8300 Train Acc: 0.984375 Train Loss: 0.0153881\n",
      "step 8400 Train Acc: 0.984375 Train Loss: 0.0204637\n",
      "step 8500 Train Acc: 1.0 Train Loss: 0.00161148\n",
      "step 8600 Train Acc: 1.0 Train Loss: 0.000856753\n",
      "step 8700 Train Acc: 1.0 Train Loss: 0.00513432\n",
      "step 8800 Train Acc: 1.0 Train Loss: 0.0112206\n",
      "step 8900 Train Acc: 1.0 Train Loss: 0.00309559\n",
      "step 9000 Train Acc: 1.0 Train Loss: 0.00310351\n",
      "step 9100 Train Acc: 1.0 Train Loss: 0.00350241\n",
      "step 9200 Train Acc: 1.0 Train Loss: 0.00279734\n",
      "step 9300 Train Acc: 1.0 Train Loss: 0.00736159\n",
      "step 9400 Train Acc: 1.0 Train Loss: 0.00240812\n",
      "step 9500 Train Acc: 0.984375 Train Loss: 0.0435124\n",
      "step 9600 Train Acc: 0.984375 Train Loss: 0.0152139\n",
      "step 9700 Train Acc: 1.0 Train Loss: 0.0057251\n",
      "step 9800 Train Acc: 1.0 Train Loss: 0.00917773\n",
      "step 9900 Train Acc: 1.0 Train Loss: 0.00522975\n"
     ]
    },
    {
     "ename": "NameError",
     "evalue": "name 'test_loss' is not defined",
     "output_type": "error",
     "traceback": [
      "\u001b[0;31m---------------------------------------------------------------------------\u001b[0m",
      "\u001b[0;31mNameError\u001b[0m                                 Traceback (most recent call last)",
      "\u001b[0;32m<ipython-input-33-1b6670c0bad4>\u001b[0m in \u001b[0;36m<module>\u001b[0;34m()\u001b[0m\n\u001b[1;32m     22\u001b[0m     \u001b[0mtrain_loss\u001b[0m \u001b[1;33m=\u001b[0m \u001b[0msession\u001b[0m\u001b[1;33m.\u001b[0m\u001b[0mrun\u001b[0m\u001b[1;33m(\u001b[0m\u001b[0mloss_function\u001b[0m\u001b[1;33m,\u001b[0m \u001b[0mfeed_dict\u001b[0m \u001b[1;33m=\u001b[0m \u001b[1;33m{\u001b[0m\u001b[0mx_input\u001b[0m\u001b[1;33m:\u001b[0m \u001b[0mmnist\u001b[0m\u001b[1;33m.\u001b[0m\u001b[0mtest\u001b[0m\u001b[1;33m.\u001b[0m\u001b[0mimages\u001b[0m\u001b[1;33m,\u001b[0m \u001b[0my_output\u001b[0m\u001b[1;33m:\u001b[0m \u001b[0mmnist\u001b[0m\u001b[1;33m.\u001b[0m\u001b[0mtest\u001b[0m\u001b[1;33m.\u001b[0m\u001b[0mlabels\u001b[0m\u001b[1;33m,\u001b[0m \u001b[0mis_training\u001b[0m\u001b[1;33m:\u001b[0m \u001b[1;32mFalse\u001b[0m\u001b[1;33m}\u001b[0m\u001b[1;33m)\u001b[0m\u001b[1;33m\u001b[0m\u001b[0m\n\u001b[1;32m     23\u001b[0m     \u001b[0mtest_accuracy\u001b[0m \u001b[1;33m=\u001b[0m \u001b[0maccuracy\u001b[0m\u001b[1;33m.\u001b[0m\u001b[0meval\u001b[0m\u001b[1;33m(\u001b[0m\u001b[0mfeed_dict\u001b[0m\u001b[1;33m=\u001b[0m\u001b[1;33m{\u001b[0m \u001b[0mx_input\u001b[0m\u001b[1;33m:\u001b[0m \u001b[0mmnist\u001b[0m\u001b[1;33m.\u001b[0m\u001b[0mtest\u001b[0m\u001b[1;33m.\u001b[0m\u001b[0mimages\u001b[0m\u001b[1;33m,\u001b[0m \u001b[0my_output\u001b[0m\u001b[1;33m:\u001b[0m \u001b[0mmnist\u001b[0m\u001b[1;33m.\u001b[0m\u001b[0mtest\u001b[0m\u001b[1;33m.\u001b[0m\u001b[0mlabels\u001b[0m\u001b[1;33m,\u001b[0m \u001b[0mis_training\u001b[0m\u001b[1;33m:\u001b[0m \u001b[1;32mFalse\u001b[0m\u001b[1;33m}\u001b[0m\u001b[1;33m)\u001b[0m\u001b[1;33m\u001b[0m\u001b[0m\n\u001b[0;32m---> 24\u001b[0;31m     \u001b[0mprint\u001b[0m\u001b[1;33m(\u001b[0m\u001b[1;34m\"Final: \"\u001b[0m \u001b[1;34m\" Test Acc: \"\u001b[0m \u001b[1;33m+\u001b[0m \u001b[0mstr\u001b[0m\u001b[1;33m(\u001b[0m\u001b[0mtest_accuracy\u001b[0m\u001b[1;33m)\u001b[0m \u001b[1;33m+\u001b[0m \u001b[1;34m\" Test Loss: \"\u001b[0m \u001b[1;33m+\u001b[0m \u001b[0mstr\u001b[0m\u001b[1;33m(\u001b[0m\u001b[0mtest_loss\u001b[0m\u001b[1;33m)\u001b[0m\u001b[1;33m)\u001b[0m\u001b[1;33m\u001b[0m\u001b[0m\n\u001b[0m",
      "\u001b[0;31mNameError\u001b[0m: name 'test_loss' is not defined"
     ]
    }
   ],
   "source": [
    "batch_size = 64\n",
    "start = time.time()\n",
    "train_loss_list = []\n",
    "valid_loss_list = []\n",
    "time_list = []\n",
    "epoch_list = []\n",
    "print(\"TRAINING: \" + model_name)\n",
    "with tf.Session(graph = graph) as session:\n",
    "    session.run(tf.global_variables_initializer())\n",
    "    saver = tf.train.Saver()\n",
    "    if os.path.exists(model_directory):\n",
    "            load_path = saver.restore(session, model_path)\n",
    "    for i in range(10000):\n",
    "        batch = mnist.train.next_batch(batch_size)\n",
    "        if i%100 == 0:\n",
    "            feed_dict = {x_input:batch[0], y_output: batch[1], is_training: False}\n",
    "            train_accuracy = accuracy.eval(feed_dict=feed_dict)\n",
    "            train_loss = session.run(loss_function, feed_dict=feed_dict)\n",
    "            print(\"step \" + str(i) + \" Train Acc: \" + str(train_accuracy) + \" Train Loss: \" + str(train_loss))\n",
    "        # Train system\n",
    "        session.run([optimizer], feed_dict={x_input: batch[0], y_output: batch[1], is_training: True})\n",
    "    train_loss = session.run(loss_function, feed_dict = {x_input: mnist.test.images, y_output: mnist.test.labels, is_training: False})\n",
    "    test_accuracy = accuracy.eval(feed_dict={ x_input: mnist.test.images, y_output: mnist.test.labels, is_training: False})\n",
    "    print(\"Final: \" \" Test Acc: \" + str(test_accuracy) + \" Test Loss: \" + str(test_loss))"
   ]
  },
  {
   "cell_type": "code",
   "execution_count": null,
   "metadata": {
    "collapsed": true
   },
   "outputs": [],
   "source": [
    "# Create a Pandas dataframe from some data.\n",
    "df = pd.DataFrame({'Data': [p]})\n",
    "\n",
    "# Create a Pandas Excel writer using XlsxWriter as the engine.\n",
    "writer = pd.ExcelWriter(model_path + 'TrainLossAcc.xlsx', engine='xlsxwriter')\n",
    "\n",
    "# Convert the dataframe to an XlsxWriter Excel object.\n",
    "df.to_excel(writer, sheet_name='Sheet1')\n",
    "\n",
    "# Close the Pandas Excel writer and output the Excel file.\n",
    "writer.save()"
   ]
  }
 ],
 "metadata": {
  "kernelspec": {
   "display_name": "Python 3",
   "language": "python",
   "name": "python3"
  },
  "language_info": {
   "codemirror_mode": {
    "name": "ipython",
    "version": 3
   },
   "file_extension": ".py",
   "mimetype": "text/x-python",
   "name": "python",
   "nbconvert_exporter": "python",
   "pygments_lexer": "ipython3",
   "version": "3.5.2"
  }
 },
 "nbformat": 4,
 "nbformat_minor": 2
}
